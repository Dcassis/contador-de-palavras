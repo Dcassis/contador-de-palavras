{
 "cells": [
  {
   "cell_type": "code",
   "execution_count": 1,
   "metadata": {},
   "outputs": [
    {
     "name": "stderr",
     "output_type": "stream",
     "text": [
      "24/06/21 22:36:42 WARN Utils: Your hostname, MacBook-Air-de-Daniel-2.local resolves to a loopback address: 127.0.0.1; using 192.168.0.5 instead (on interface en0)\n",
      "24/06/21 22:36:42 WARN Utils: Set SPARK_LOCAL_IP if you need to bind to another address\n",
      "Setting default log level to \"WARN\".\n",
      "To adjust logging level use sc.setLogLevel(newLevel). For SparkR, use setLogLevel(newLevel).\n",
      "24/06/21 22:36:42 WARN NativeCodeLoader: Unable to load native-hadoop library for your platform... using builtin-java classes where applicable\n"
     ]
    }
   ],
   "source": [
    "#cria sessão a ser utilizada pelo Spark\n",
    "from pyspark.sql import SparkSession\n",
    "spark = SparkSession.builder.appName('abc').getOrCreate()"
   ]
  },
  {
   "cell_type": "code",
   "execution_count": 10,
   "metadata": {},
   "outputs": [],
   "source": [
    "#leitura do arquivo de texto\n",
    "read_file = spark\\\n",
    ".read\\\n",
    ".format(\"txt\")\\\n",
    ".option(\"inferSchema\", \"true\")\\\n",
    ".text(\"./viagem.txt\")"
   ]
  },
  {
   "cell_type": "code",
   "execution_count": 11,
   "metadata": {},
   "outputs": [
    {
     "name": "stdout",
     "output_type": "stream",
     "text": [
      "root\n",
      " |-- value: string (nullable = true)\n",
      "\n"
     ]
    }
   ],
   "source": [
    "read_file.printSchema()"
   ]
  },
  {
   "cell_type": "code",
   "execution_count": 12,
   "metadata": {},
   "outputs": [
    {
     "data": {
      "text/plain": [
       "False"
      ]
     },
     "execution_count": 12,
     "metadata": {},
     "output_type": "execute_result"
    }
   ],
   "source": [
    "#verificar se é um streaming\n",
    "read_file.isStreaming"
   ]
  },
  {
   "cell_type": "code",
   "execution_count": 13,
   "metadata": {},
   "outputs": [],
   "source": [
    "#define bibliotecas a serem utilizadas\n",
    "from pyspark.sql.functions import explode #separa elementos de uma linha em multiplas linhas\n",
    "from pyspark.sql.functions import split #divide as linhas"
   ]
  },
  {
   "cell_type": "code",
   "execution_count": 14,
   "metadata": {},
   "outputs": [],
   "source": [
    "words = read_file.select(\n",
    "    explode(\n",
    "        split(read_file.value, \" \")\n",
    "    ).alias(\"word\")\n",
    ")\n",
    "\n",
    "#cria o novo dataframe a ser responsável por contar a quantidade de palavras digitadas\n",
    "wordCounts = words.groupBy(\"word\").count()"
   ]
  },
  {
   "cell_type": "code",
   "execution_count": 15,
   "metadata": {},
   "outputs": [
    {
     "name": "stdout",
     "output_type": "stream",
     "text": [
      "+------+-----+\n",
      "|  word|count|\n",
      "+------+-----+\n",
      "|    Em|    2|\n",
      "| assim|    3|\n",
      "|    Te|    3|\n",
      "|     é|    1|\n",
      "|   com|    2|\n",
      "|bonito|    1|\n",
      "|abraço|    2|\n",
      "| crer,|    1|\n",
      "| Mesmo|    1|\n",
      "|quando|    2|\n",
      "|   dia|    1|\n",
      "|   meu|    4|\n",
      "|     E|    2|\n",
      "|deixei|    2|\n",
      "|  você|    5|\n",
      "| tanto|    2|\n",
      "| tempo|    2|\n",
      "|Trouxe|    1|\n",
      "|viajei|    4|\n",
      "|   era|    2|\n",
      "+------+-----+\n",
      "only showing top 20 rows\n",
      "\n"
     ]
    }
   ],
   "source": [
    "wordCounts.show()"
   ]
  }
 ],
 "metadata": {
  "kernelspec": {
   "display_name": "Python 3",
   "language": "python",
   "name": "python3"
  },
  "language_info": {
   "codemirror_mode": {
    "name": "ipython",
    "version": 3
   },
   "file_extension": ".py",
   "mimetype": "text/x-python",
   "name": "python",
   "nbconvert_exporter": "python",
   "pygments_lexer": "ipython3",
   "version": "3.12.3"
  }
 },
 "nbformat": 4,
 "nbformat_minor": 2
}
